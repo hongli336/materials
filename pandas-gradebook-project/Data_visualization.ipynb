{
 "cells": [
  {
   "cell_type": "code",
   "execution_count": 7,
   "id": "b0b37d40",
   "metadata": {},
   "outputs": [],
   "source": [
    "import pandas as pd"
   ]
  },
  {
   "cell_type": "code",
   "execution_count": 19,
   "id": "5163c381",
   "metadata": {},
   "outputs": [],
   "source": [
    "download_url=(\"https://raw.githubusercontent.com/fivethirtyeight/data/master/college-majors/recent-grads.csv\")"
   ]
  },
  {
   "cell_type": "code",
   "execution_count": 20,
   "id": "a7a5da71",
   "metadata": {},
   "outputs": [
    {
     "data": {
      "text/plain": [
       "'https://raw.githubusercontent.com/fivethirtyeight/data/master/college-majors/recent-grads.csv'"
      ]
     },
     "execution_count": 20,
     "metadata": {},
     "output_type": "execute_result"
    }
   ],
   "source": [
    "download_url\n",
    "\n",
    "# If run into issue certification issue\n",
    "# https://stackoverflow.com/questions/52805115/certificate-verify-failed-unable-to-get-local-issuer-certificate"
   ]
  },
  {
   "cell_type": "code",
   "execution_count": 24,
   "id": "dabee5f1",
   "metadata": {},
   "outputs": [],
   "source": [
    "df = pd.read_csv(download_url)"
   ]
  },
  {
   "cell_type": "code",
   "execution_count": 25,
   "id": "6ea00c33",
   "metadata": {},
   "outputs": [
    {
     "data": {
      "text/plain": [
       "pandas.core.frame.DataFrame"
      ]
     },
     "execution_count": 25,
     "metadata": {},
     "output_type": "execute_result"
    }
   ],
   "source": [
    "type(df)"
   ]
  },
  {
   "cell_type": "code",
   "execution_count": 26,
   "id": "ee638d03",
   "metadata": {},
   "outputs": [
    {
     "data": {
      "text/html": [
       "<div>\n",
       "<style scoped>\n",
       "    .dataframe tbody tr th:only-of-type {\n",
       "        vertical-align: middle;\n",
       "    }\n",
       "\n",
       "    .dataframe tbody tr th {\n",
       "        vertical-align: top;\n",
       "    }\n",
       "\n",
       "    .dataframe thead th {\n",
       "        text-align: right;\n",
       "    }\n",
       "</style>\n",
       "<table border=\"1\" class=\"dataframe\">\n",
       "  <thead>\n",
       "    <tr style=\"text-align: right;\">\n",
       "      <th></th>\n",
       "      <th>Rank</th>\n",
       "      <th>Major_code</th>\n",
       "      <th>Major</th>\n",
       "      <th>Total</th>\n",
       "      <th>Men</th>\n",
       "      <th>Women</th>\n",
       "      <th>Major_category</th>\n",
       "      <th>ShareWomen</th>\n",
       "      <th>Sample_size</th>\n",
       "      <th>Employed</th>\n",
       "      <th>...</th>\n",
       "      <th>Part_time</th>\n",
       "      <th>Full_time_year_round</th>\n",
       "      <th>Unemployed</th>\n",
       "      <th>Unemployment_rate</th>\n",
       "      <th>Median</th>\n",
       "      <th>P25th</th>\n",
       "      <th>P75th</th>\n",
       "      <th>College_jobs</th>\n",
       "      <th>Non_college_jobs</th>\n",
       "      <th>Low_wage_jobs</th>\n",
       "    </tr>\n",
       "  </thead>\n",
       "  <tbody>\n",
       "    <tr>\n",
       "      <th>0</th>\n",
       "      <td>1</td>\n",
       "      <td>2419</td>\n",
       "      <td>PETROLEUM ENGINEERING</td>\n",
       "      <td>2339.0</td>\n",
       "      <td>2057.0</td>\n",
       "      <td>282.0</td>\n",
       "      <td>Engineering</td>\n",
       "      <td>0.120564</td>\n",
       "      <td>36</td>\n",
       "      <td>1976</td>\n",
       "      <td>...</td>\n",
       "      <td>270</td>\n",
       "      <td>1207</td>\n",
       "      <td>37</td>\n",
       "      <td>0.018381</td>\n",
       "      <td>110000</td>\n",
       "      <td>95000</td>\n",
       "      <td>125000</td>\n",
       "      <td>1534</td>\n",
       "      <td>364</td>\n",
       "      <td>193</td>\n",
       "    </tr>\n",
       "    <tr>\n",
       "      <th>1</th>\n",
       "      <td>2</td>\n",
       "      <td>2416</td>\n",
       "      <td>MINING AND MINERAL ENGINEERING</td>\n",
       "      <td>756.0</td>\n",
       "      <td>679.0</td>\n",
       "      <td>77.0</td>\n",
       "      <td>Engineering</td>\n",
       "      <td>0.101852</td>\n",
       "      <td>7</td>\n",
       "      <td>640</td>\n",
       "      <td>...</td>\n",
       "      <td>170</td>\n",
       "      <td>388</td>\n",
       "      <td>85</td>\n",
       "      <td>0.117241</td>\n",
       "      <td>75000</td>\n",
       "      <td>55000</td>\n",
       "      <td>90000</td>\n",
       "      <td>350</td>\n",
       "      <td>257</td>\n",
       "      <td>50</td>\n",
       "    </tr>\n",
       "    <tr>\n",
       "      <th>2</th>\n",
       "      <td>3</td>\n",
       "      <td>2415</td>\n",
       "      <td>METALLURGICAL ENGINEERING</td>\n",
       "      <td>856.0</td>\n",
       "      <td>725.0</td>\n",
       "      <td>131.0</td>\n",
       "      <td>Engineering</td>\n",
       "      <td>0.153037</td>\n",
       "      <td>3</td>\n",
       "      <td>648</td>\n",
       "      <td>...</td>\n",
       "      <td>133</td>\n",
       "      <td>340</td>\n",
       "      <td>16</td>\n",
       "      <td>0.024096</td>\n",
       "      <td>73000</td>\n",
       "      <td>50000</td>\n",
       "      <td>105000</td>\n",
       "      <td>456</td>\n",
       "      <td>176</td>\n",
       "      <td>0</td>\n",
       "    </tr>\n",
       "    <tr>\n",
       "      <th>3</th>\n",
       "      <td>4</td>\n",
       "      <td>2417</td>\n",
       "      <td>NAVAL ARCHITECTURE AND MARINE ENGINEERING</td>\n",
       "      <td>1258.0</td>\n",
       "      <td>1123.0</td>\n",
       "      <td>135.0</td>\n",
       "      <td>Engineering</td>\n",
       "      <td>0.107313</td>\n",
       "      <td>16</td>\n",
       "      <td>758</td>\n",
       "      <td>...</td>\n",
       "      <td>150</td>\n",
       "      <td>692</td>\n",
       "      <td>40</td>\n",
       "      <td>0.050125</td>\n",
       "      <td>70000</td>\n",
       "      <td>43000</td>\n",
       "      <td>80000</td>\n",
       "      <td>529</td>\n",
       "      <td>102</td>\n",
       "      <td>0</td>\n",
       "    </tr>\n",
       "    <tr>\n",
       "      <th>4</th>\n",
       "      <td>5</td>\n",
       "      <td>2405</td>\n",
       "      <td>CHEMICAL ENGINEERING</td>\n",
       "      <td>32260.0</td>\n",
       "      <td>21239.0</td>\n",
       "      <td>11021.0</td>\n",
       "      <td>Engineering</td>\n",
       "      <td>0.341631</td>\n",
       "      <td>289</td>\n",
       "      <td>25694</td>\n",
       "      <td>...</td>\n",
       "      <td>5180</td>\n",
       "      <td>16697</td>\n",
       "      <td>1672</td>\n",
       "      <td>0.061098</td>\n",
       "      <td>65000</td>\n",
       "      <td>50000</td>\n",
       "      <td>75000</td>\n",
       "      <td>18314</td>\n",
       "      <td>4440</td>\n",
       "      <td>972</td>\n",
       "    </tr>\n",
       "  </tbody>\n",
       "</table>\n",
       "<p>5 rows × 21 columns</p>\n",
       "</div>"
      ],
      "text/plain": [
       "   Rank  Major_code                                      Major    Total  \\\n",
       "0     1        2419                      PETROLEUM ENGINEERING   2339.0   \n",
       "1     2        2416             MINING AND MINERAL ENGINEERING    756.0   \n",
       "2     3        2415                  METALLURGICAL ENGINEERING    856.0   \n",
       "3     4        2417  NAVAL ARCHITECTURE AND MARINE ENGINEERING   1258.0   \n",
       "4     5        2405                       CHEMICAL ENGINEERING  32260.0   \n",
       "\n",
       "       Men    Women Major_category  ShareWomen  Sample_size  Employed  ...  \\\n",
       "0   2057.0    282.0    Engineering    0.120564           36      1976  ...   \n",
       "1    679.0     77.0    Engineering    0.101852            7       640  ...   \n",
       "2    725.0    131.0    Engineering    0.153037            3       648  ...   \n",
       "3   1123.0    135.0    Engineering    0.107313           16       758  ...   \n",
       "4  21239.0  11021.0    Engineering    0.341631          289     25694  ...   \n",
       "\n",
       "   Part_time  Full_time_year_round  Unemployed  Unemployment_rate  Median  \\\n",
       "0        270                  1207          37           0.018381  110000   \n",
       "1        170                   388          85           0.117241   75000   \n",
       "2        133                   340          16           0.024096   73000   \n",
       "3        150                   692          40           0.050125   70000   \n",
       "4       5180                 16697        1672           0.061098   65000   \n",
       "\n",
       "   P25th   P75th  College_jobs  Non_college_jobs  Low_wage_jobs  \n",
       "0  95000  125000          1534               364            193  \n",
       "1  55000   90000           350               257             50  \n",
       "2  50000  105000           456               176              0  \n",
       "3  43000   80000           529               102              0  \n",
       "4  50000   75000         18314              4440            972  \n",
       "\n",
       "[5 rows x 21 columns]"
      ]
     },
     "execution_count": 26,
     "metadata": {},
     "output_type": "execute_result"
    }
   ],
   "source": [
    "df.head()"
   ]
  },
  {
   "cell_type": "markdown",
   "id": "71611bd8",
   "metadata": {},
   "source": [
    "# Create your first pandas plot"
   ]
  },
  {
   "cell_type": "code",
   "execution_count": 27,
   "id": "66745d12",
   "metadata": {},
   "outputs": [],
   "source": [
    "# Median, "
   ]
  },
  {
   "cell_type": "code",
   "execution_count": 28,
   "id": "7ebfe292",
   "metadata": {},
   "outputs": [
    {
     "name": "stdout",
     "output_type": "stream",
     "text": [
      "Using matplotlib backend: <object object at 0x112104f50>\n"
     ]
    }
   ],
   "source": [
    "%matplotlib"
   ]
  },
  {
   "cell_type": "code",
   "execution_count": 29,
   "id": "ca1b6550",
   "metadata": {},
   "outputs": [],
   "source": [
    "%matplotlib inline"
   ]
  },
  {
   "cell_type": "code",
   "execution_count": 31,
   "id": "33dfb6a8",
   "metadata": {},
   "outputs": [
    {
     "data": {
      "text/plain": [
       "<AxesSubplot:xlabel='Rank'>"
      ]
     },
     "execution_count": 31,
     "metadata": {},
     "output_type": "execute_result"
    },
    {
     "data": {
      "image/png": "[encoded data removed]",
      "text/plain": [
       "<Figure size 432x288 with 1 Axes>"
      ]
     },
     "metadata": {
      "needs_background": "light"
     },
     "output_type": "display_data"
    }
   ],
   "source": [
    "df.plot(x=\"Rank\", y=[\"P25th\", \"Median\", \"P75th\"])"
   ]
  },
  {
   "cell_type": "markdown",
   "id": "05479cf1",
   "metadata": {},
   "source": [
    "BAR, BARH, BOX, HEXBIN, HIST, KDE, DENSITY, LINE, PIE, SCATTER"
   ]
  },
  {
   "cell_type": "markdown",
   "id": "67b0dea0",
   "metadata": {},
   "source": [
    "# Survey your data"
   ]
  },
  {
   "cell_type": "markdown",
   "id": "4179d71a",
   "metadata": {},
   "source": [
    "# Distribution and Histogram"
   ]
  },
  {
   "cell_type": "code",
   "execution_count": 32,
   "id": "47a8dd63",
   "metadata": {},
   "outputs": [],
   "source": [
    "medium_column = df[\"Median\"]"
   ]
  },
  {
   "cell_type": "code",
   "execution_count": 33,
   "id": "f950089b",
   "metadata": {},
   "outputs": [
    {
     "data": {
      "text/plain": [
       "pandas.core.series.Series"
      ]
     },
     "execution_count": 33,
     "metadata": {},
     "output_type": "execute_result"
    }
   ],
   "source": [
    "type(medium_column)"
   ]
  },
  {
   "cell_type": "code",
   "execution_count": 36,
   "id": "4437f339",
   "metadata": {},
   "outputs": [
    {
     "data": {
      "text/plain": [
       "<AxesSubplot:ylabel='Frequency'>"
      ]
     },
     "execution_count": 36,
     "metadata": {},
     "output_type": "execute_result"
    },
    {
     "data": {
      "image/png": "[encoded data removed]",
      "text/plain": [
       "<Figure size 432x288 with 1 Axes>"
      ]
     },
     "metadata": {
      "needs_background": "light"
     },
     "output_type": "display_data"
    }
   ],
   "source": [
    "medium_column.plot(kind=\"hist\")"
   ]
  },
  {
   "cell_type": "code",
   "execution_count": 37,
   "id": "a74d5cf3",
   "metadata": {},
   "outputs": [],
   "source": [
    "top_5 = df.sort_values(by=\"Median\", ascending=False)"
   ]
  },
  {
   "cell_type": "code",
   "execution_count": 50,
   "id": "2e9d01fa",
   "metadata": {},
   "outputs": [
    {
     "data": {
      "text/html": [
       "<div>\n",
       "<style scoped>\n",
       "    .dataframe tbody tr th:only-of-type {\n",
       "        vertical-align: middle;\n",
       "    }\n",
       "\n",
       "    .dataframe tbody tr th {\n",
       "        vertical-align: top;\n",
       "    }\n",
       "\n",
       "    .dataframe thead th {\n",
       "        text-align: right;\n",
       "    }\n",
       "</style>\n",
       "<table border=\"1\" class=\"dataframe\">\n",
       "  <thead>\n",
       "    <tr style=\"text-align: right;\">\n",
       "      <th></th>\n",
       "      <th>Major</th>\n",
       "      <th>Median</th>\n",
       "    </tr>\n",
       "  </thead>\n",
       "  <tbody>\n",
       "    <tr>\n",
       "      <th>0</th>\n",
       "      <td>PETROLEUM ENGINEERING</td>\n",
       "      <td>110000</td>\n",
       "    </tr>\n",
       "    <tr>\n",
       "      <th>1</th>\n",
       "      <td>MINING AND MINERAL ENGINEERING</td>\n",
       "      <td>75000</td>\n",
       "    </tr>\n",
       "    <tr>\n",
       "      <th>2</th>\n",
       "      <td>METALLURGICAL ENGINEERING</td>\n",
       "      <td>73000</td>\n",
       "    </tr>\n",
       "    <tr>\n",
       "      <th>3</th>\n",
       "      <td>NAVAL ARCHITECTURE AND MARINE ENGINEERING</td>\n",
       "      <td>70000</td>\n",
       "    </tr>\n",
       "    <tr>\n",
       "      <th>4</th>\n",
       "      <td>CHEMICAL ENGINEERING</td>\n",
       "      <td>65000</td>\n",
       "    </tr>\n",
       "    <tr>\n",
       "      <th>5</th>\n",
       "      <td>NUCLEAR ENGINEERING</td>\n",
       "      <td>65000</td>\n",
       "    </tr>\n",
       "    <tr>\n",
       "      <th>6</th>\n",
       "      <td>ACTUARIAL SCIENCE</td>\n",
       "      <td>62000</td>\n",
       "    </tr>\n",
       "    <tr>\n",
       "      <th>7</th>\n",
       "      <td>ASTRONOMY AND ASTROPHYSICS</td>\n",
       "      <td>62000</td>\n",
       "    </tr>\n",
       "    <tr>\n",
       "      <th>10</th>\n",
       "      <td>COMPUTER ENGINEERING</td>\n",
       "      <td>60000</td>\n",
       "    </tr>\n",
       "    <tr>\n",
       "      <th>13</th>\n",
       "      <td>MATERIALS SCIENCE</td>\n",
       "      <td>60000</td>\n",
       "    </tr>\n",
       "  </tbody>\n",
       "</table>\n",
       "</div>"
      ],
      "text/plain": [
       "                                        Major  Median\n",
       "0                       PETROLEUM ENGINEERING  110000\n",
       "1              MINING AND MINERAL ENGINEERING   75000\n",
       "2                   METALLURGICAL ENGINEERING   73000\n",
       "3   NAVAL ARCHITECTURE AND MARINE ENGINEERING   70000\n",
       "4                        CHEMICAL ENGINEERING   65000\n",
       "5                         NUCLEAR ENGINEERING   65000\n",
       "6                           ACTUARIAL SCIENCE   62000\n",
       "7                  ASTRONOMY AND ASTROPHYSICS   62000\n",
       "10                       COMPUTER ENGINEERING   60000\n",
       "13                          MATERIALS SCIENCE   60000"
      ]
     },
     "execution_count": 50,
     "metadata": {},
     "output_type": "execute_result"
    }
   ],
   "source": [
    "top_5.loc[:,['Major', 'Median']].head(10)"
   ]
  },
  {
   "cell_type": "code",
   "execution_count": 60,
   "id": "25637ef2",
   "metadata": {},
   "outputs": [
    {
     "data": {
      "text/plain": [
       "<AxesSubplot:xlabel='Major'>"
      ]
     },
     "execution_count": 60,
     "metadata": {},
     "output_type": "execute_result"
    },
    {
     "data": {
      "image/png": "[encoded data removed]",
      "text/plain": [
       "<Figure size 432x288 with 1 Axes>"
      ]
     },
     "metadata": {
      "needs_background": "light"
     },
     "output_type": "display_data"
    }
   ],
   "source": [
    "top_5.head(10).plot(x=\"Major\", y=\"Median\", kind=\"bar\", rot=5, fontsize=7)"
   ]
  },
  {
   "cell_type": "code",
   "execution_count": 61,
   "id": "a148f7d5",
   "metadata": {},
   "outputs": [
    {
     "data": {
      "text/plain": [
       "<AxesSubplot:xlabel='Median', ylabel='Unemployment_rate'>"
      ]
     },
     "execution_count": 61,
     "metadata": {},
     "output_type": "execute_result"
    },
    {
     "data": {
      "image/png": "[encoded data removed]",
      "text/plain": [
       "<Figure size 432x288 with 1 Axes>"
      ]
     },
     "metadata": {
      "needs_background": "light"
     },
     "output_type": "display_data"
    }
   ],
   "source": [
    "df.plot(x=\"Median\", y=\"Unemployment_rate\", kind=\"scatter\")"
   ]
  },
  {
   "cell_type": "code",
   "execution_count": 62,
   "id": "89f57c6e",
   "metadata": {},
   "outputs": [
    {
     "data": {
      "text/html": [
       "<div>\n",
       "<style scoped>\n",
       "    .dataframe tbody tr th:only-of-type {\n",
       "        vertical-align: middle;\n",
       "    }\n",
       "\n",
       "    .dataframe tbody tr th {\n",
       "        vertical-align: top;\n",
       "    }\n",
       "\n",
       "    .dataframe thead th {\n",
       "        text-align: right;\n",
       "    }\n",
       "</style>\n",
       "<table border=\"1\" class=\"dataframe\">\n",
       "  <thead>\n",
       "    <tr style=\"text-align: right;\">\n",
       "      <th></th>\n",
       "      <th>Rank</th>\n",
       "      <th>Major_code</th>\n",
       "      <th>Total</th>\n",
       "      <th>Men</th>\n",
       "      <th>Women</th>\n",
       "      <th>ShareWomen</th>\n",
       "      <th>Sample_size</th>\n",
       "      <th>Employed</th>\n",
       "      <th>Full_time</th>\n",
       "      <th>Part_time</th>\n",
       "      <th>Full_time_year_round</th>\n",
       "      <th>Unemployed</th>\n",
       "      <th>Unemployment_rate</th>\n",
       "      <th>Median</th>\n",
       "      <th>P25th</th>\n",
       "      <th>P75th</th>\n",
       "      <th>College_jobs</th>\n",
       "      <th>Non_college_jobs</th>\n",
       "      <th>Low_wage_jobs</th>\n",
       "    </tr>\n",
       "  </thead>\n",
       "  <tbody>\n",
       "    <tr>\n",
       "      <th>Rank</th>\n",
       "      <td>1.000000</td>\n",
       "      <td>0.108429</td>\n",
       "      <td>0.071137</td>\n",
       "      <td>-0.094780</td>\n",
       "      <td>0.174913</td>\n",
       "      <td>0.643781</td>\n",
       "      <td>0.008492</td>\n",
       "      <td>0.070751</td>\n",
       "      <td>0.034725</td>\n",
       "      <td>0.193174</td>\n",
       "      <td>0.020418</td>\n",
       "      <td>0.090078</td>\n",
       "      <td>0.068900</td>\n",
       "      <td>-0.873308</td>\n",
       "      <td>-0.735688</td>\n",
       "      <td>-0.802686</td>\n",
       "      <td>0.052639</td>\n",
       "      <td>0.144689</td>\n",
       "      <td>0.202920</td>\n",
       "    </tr>\n",
       "    <tr>\n",
       "      <th>Major_code</th>\n",
       "      <td>0.108429</td>\n",
       "      <td>1.000000</td>\n",
       "      <td>0.196784</td>\n",
       "      <td>0.179299</td>\n",
       "      <td>0.181459</td>\n",
       "      <td>0.259211</td>\n",
       "      <td>0.206580</td>\n",
       "      <td>0.200925</td>\n",
       "      <td>0.199397</td>\n",
       "      <td>0.195184</td>\n",
       "      <td>0.205634</td>\n",
       "      <td>0.223418</td>\n",
       "      <td>0.126603</td>\n",
       "      <td>-0.176072</td>\n",
       "      <td>-0.166864</td>\n",
       "      <td>-0.094556</td>\n",
       "      <td>0.041198</td>\n",
       "      <td>0.232425</td>\n",
       "      <td>0.225294</td>\n",
       "    </tr>\n",
       "    <tr>\n",
       "      <th>Total</th>\n",
       "      <td>0.071137</td>\n",
       "      <td>0.196784</td>\n",
       "      <td>1.000000</td>\n",
       "      <td>0.878088</td>\n",
       "      <td>0.944764</td>\n",
       "      <td>0.142999</td>\n",
       "      <td>0.945575</td>\n",
       "      <td>0.996214</td>\n",
       "      <td>0.989339</td>\n",
       "      <td>0.950268</td>\n",
       "      <td>0.981112</td>\n",
       "      <td>0.974768</td>\n",
       "      <td>0.083192</td>\n",
       "      <td>-0.106738</td>\n",
       "      <td>-0.071926</td>\n",
       "      <td>-0.083198</td>\n",
       "      <td>0.800465</td>\n",
       "      <td>0.941247</td>\n",
       "      <td>0.935510</td>\n",
       "    </tr>\n",
       "    <tr>\n",
       "      <th>Men</th>\n",
       "      <td>-0.094780</td>\n",
       "      <td>0.179299</td>\n",
       "      <td>0.878088</td>\n",
       "      <td>1.000000</td>\n",
       "      <td>0.672759</td>\n",
       "      <td>-0.112014</td>\n",
       "      <td>0.875176</td>\n",
       "      <td>0.870605</td>\n",
       "      <td>0.893563</td>\n",
       "      <td>0.751592</td>\n",
       "      <td>0.892454</td>\n",
       "      <td>0.869411</td>\n",
       "      <td>0.101502</td>\n",
       "      <td>0.025991</td>\n",
       "      <td>0.038725</td>\n",
       "      <td>0.052393</td>\n",
       "      <td>0.563168</td>\n",
       "      <td>0.851500</td>\n",
       "      <td>0.791336</td>\n",
       "    </tr>\n",
       "    <tr>\n",
       "      <th>Women</th>\n",
       "      <td>0.174913</td>\n",
       "      <td>0.181459</td>\n",
       "      <td>0.944764</td>\n",
       "      <td>0.672759</td>\n",
       "      <td>1.000000</td>\n",
       "      <td>0.297832</td>\n",
       "      <td>0.862606</td>\n",
       "      <td>0.944037</td>\n",
       "      <td>0.917681</td>\n",
       "      <td>0.954513</td>\n",
       "      <td>0.905720</td>\n",
       "      <td>0.911694</td>\n",
       "      <td>0.059108</td>\n",
       "      <td>-0.182842</td>\n",
       "      <td>-0.137738</td>\n",
       "      <td>-0.164528</td>\n",
       "      <td>0.851946</td>\n",
       "      <td>0.872132</td>\n",
       "      <td>0.904470</td>\n",
       "    </tr>\n",
       "    <tr>\n",
       "      <th>ShareWomen</th>\n",
       "      <td>0.643781</td>\n",
       "      <td>0.259211</td>\n",
       "      <td>0.142999</td>\n",
       "      <td>-0.112014</td>\n",
       "      <td>0.297832</td>\n",
       "      <td>1.000000</td>\n",
       "      <td>0.097496</td>\n",
       "      <td>0.147547</td>\n",
       "      <td>0.120200</td>\n",
       "      <td>0.212290</td>\n",
       "      <td>0.112523</td>\n",
       "      <td>0.121243</td>\n",
       "      <td>0.073205</td>\n",
       "      <td>-0.618690</td>\n",
       "      <td>-0.500199</td>\n",
       "      <td>-0.586932</td>\n",
       "      <td>0.195550</td>\n",
       "      <td>0.137007</td>\n",
       "      <td>0.187850</td>\n",
       "    </tr>\n",
       "    <tr>\n",
       "      <th>Sample_size</th>\n",
       "      <td>0.008492</td>\n",
       "      <td>0.206580</td>\n",
       "      <td>0.945575</td>\n",
       "      <td>0.875176</td>\n",
       "      <td>0.862606</td>\n",
       "      <td>0.097496</td>\n",
       "      <td>1.000000</td>\n",
       "      <td>0.964462</td>\n",
       "      <td>0.978396</td>\n",
       "      <td>0.824824</td>\n",
       "      <td>0.985235</td>\n",
       "      <td>0.918059</td>\n",
       "      <td>0.059872</td>\n",
       "      <td>-0.067578</td>\n",
       "      <td>-0.025229</td>\n",
       "      <td>-0.055737</td>\n",
       "      <td>0.701704</td>\n",
       "      <td>0.915464</td>\n",
       "      <td>0.860319</td>\n",
       "    </tr>\n",
       "    <tr>\n",
       "      <th>Employed</th>\n",
       "      <td>0.070751</td>\n",
       "      <td>0.200925</td>\n",
       "      <td>0.996214</td>\n",
       "      <td>0.870605</td>\n",
       "      <td>0.944037</td>\n",
       "      <td>0.147547</td>\n",
       "      <td>0.964462</td>\n",
       "      <td>1.000000</td>\n",
       "      <td>0.995838</td>\n",
       "      <td>0.934528</td>\n",
       "      <td>0.991047</td>\n",
       "      <td>0.968900</td>\n",
       "      <td>0.068056</td>\n",
       "      <td>-0.107547</td>\n",
       "      <td>-0.067514</td>\n",
       "      <td>-0.087560</td>\n",
       "      <td>0.797534</td>\n",
       "      <td>0.941326</td>\n",
       "      <td>0.927224</td>\n",
       "    </tr>\n",
       "    <tr>\n",
       "      <th>Full_time</th>\n",
       "      <td>0.034725</td>\n",
       "      <td>0.199397</td>\n",
       "      <td>0.989339</td>\n",
       "      <td>0.893563</td>\n",
       "      <td>0.917681</td>\n",
       "      <td>0.120200</td>\n",
       "      <td>0.978396</td>\n",
       "      <td>0.995838</td>\n",
       "      <td>1.000000</td>\n",
       "      <td>0.900877</td>\n",
       "      <td>0.998203</td>\n",
       "      <td>0.960102</td>\n",
       "      <td>0.063349</td>\n",
       "      <td>-0.082258</td>\n",
       "      <td>-0.042957</td>\n",
       "      <td>-0.065073</td>\n",
       "      <td>0.772515</td>\n",
       "      <td>0.933124</td>\n",
       "      <td>0.904852</td>\n",
       "    </tr>\n",
       "    <tr>\n",
       "      <th>Part_time</th>\n",
       "      <td>0.193174</td>\n",
       "      <td>0.195184</td>\n",
       "      <td>0.950268</td>\n",
       "      <td>0.751592</td>\n",
       "      <td>0.954513</td>\n",
       "      <td>0.212290</td>\n",
       "      <td>0.824824</td>\n",
       "      <td>0.934528</td>\n",
       "      <td>0.900877</td>\n",
       "      <td>1.000000</td>\n",
       "      <td>0.880855</td>\n",
       "      <td>0.945094</td>\n",
       "      <td>0.108944</td>\n",
       "      <td>-0.190124</td>\n",
       "      <td>-0.153509</td>\n",
       "      <td>-0.158220</td>\n",
       "      <td>0.804987</td>\n",
       "      <td>0.909634</td>\n",
       "      <td>0.951593</td>\n",
       "    </tr>\n",
       "    <tr>\n",
       "      <th>Full_time_year_round</th>\n",
       "      <td>0.020418</td>\n",
       "      <td>0.205634</td>\n",
       "      <td>0.981112</td>\n",
       "      <td>0.892454</td>\n",
       "      <td>0.905720</td>\n",
       "      <td>0.112523</td>\n",
       "      <td>0.985235</td>\n",
       "      <td>0.991047</td>\n",
       "      <td>0.998203</td>\n",
       "      <td>0.880855</td>\n",
       "      <td>1.000000</td>\n",
       "      <td>0.950711</td>\n",
       "      <td>0.057171</td>\n",
       "      <td>-0.072982</td>\n",
       "      <td>-0.033034</td>\n",
       "      <td>-0.056932</td>\n",
       "      <td>0.755254</td>\n",
       "      <td>0.928874</td>\n",
       "      <td>0.892847</td>\n",
       "    </tr>\n",
       "    <tr>\n",
       "      <th>Unemployed</th>\n",
       "      <td>0.090078</td>\n",
       "      <td>0.223418</td>\n",
       "      <td>0.974768</td>\n",
       "      <td>0.869411</td>\n",
       "      <td>0.911694</td>\n",
       "      <td>0.121243</td>\n",
       "      <td>0.918059</td>\n",
       "      <td>0.968900</td>\n",
       "      <td>0.960102</td>\n",
       "      <td>0.945094</td>\n",
       "      <td>0.950711</td>\n",
       "      <td>1.000000</td>\n",
       "      <td>0.165282</td>\n",
       "      <td>-0.126386</td>\n",
       "      <td>-0.092185</td>\n",
       "      <td>-0.097128</td>\n",
       "      <td>0.713804</td>\n",
       "      <td>0.956532</td>\n",
       "      <td>0.955388</td>\n",
       "    </tr>\n",
       "    <tr>\n",
       "      <th>Unemployment_rate</th>\n",
       "      <td>0.068900</td>\n",
       "      <td>0.126603</td>\n",
       "      <td>0.083192</td>\n",
       "      <td>0.101502</td>\n",
       "      <td>0.059108</td>\n",
       "      <td>0.073205</td>\n",
       "      <td>0.059872</td>\n",
       "      <td>0.068056</td>\n",
       "      <td>0.063349</td>\n",
       "      <td>0.108944</td>\n",
       "      <td>0.057171</td>\n",
       "      <td>0.165282</td>\n",
       "      <td>1.000000</td>\n",
       "      <td>-0.108833</td>\n",
       "      <td>-0.096156</td>\n",
       "      <td>-0.032768</td>\n",
       "      <td>-0.014552</td>\n",
       "      <td>0.116365</td>\n",
       "      <td>0.128444</td>\n",
       "    </tr>\n",
       "    <tr>\n",
       "      <th>Median</th>\n",
       "      <td>-0.873308</td>\n",
       "      <td>-0.176072</td>\n",
       "      <td>-0.106738</td>\n",
       "      <td>0.025991</td>\n",
       "      <td>-0.182842</td>\n",
       "      <td>-0.618690</td>\n",
       "      <td>-0.067578</td>\n",
       "      <td>-0.107547</td>\n",
       "      <td>-0.082258</td>\n",
       "      <td>-0.190124</td>\n",
       "      <td>-0.072982</td>\n",
       "      <td>-0.126386</td>\n",
       "      <td>-0.108833</td>\n",
       "      <td>1.000000</td>\n",
       "      <td>0.891683</td>\n",
       "      <td>0.901923</td>\n",
       "      <td>-0.050276</td>\n",
       "      <td>-0.174363</td>\n",
       "      <td>-0.209431</td>\n",
       "    </tr>\n",
       "    <tr>\n",
       "      <th>P25th</th>\n",
       "      <td>-0.735688</td>\n",
       "      <td>-0.166864</td>\n",
       "      <td>-0.071926</td>\n",
       "      <td>0.038725</td>\n",
       "      <td>-0.137738</td>\n",
       "      <td>-0.500199</td>\n",
       "      <td>-0.025229</td>\n",
       "      <td>-0.067514</td>\n",
       "      <td>-0.042957</td>\n",
       "      <td>-0.153509</td>\n",
       "      <td>-0.033034</td>\n",
       "      <td>-0.092185</td>\n",
       "      <td>-0.096156</td>\n",
       "      <td>0.891683</td>\n",
       "      <td>1.000000</td>\n",
       "      <td>0.734491</td>\n",
       "      <td>-0.011554</td>\n",
       "      <td>-0.138877</td>\n",
       "      <td>-0.173835</td>\n",
       "    </tr>\n",
       "    <tr>\n",
       "      <th>P75th</th>\n",
       "      <td>-0.802686</td>\n",
       "      <td>-0.094556</td>\n",
       "      <td>-0.083198</td>\n",
       "      <td>0.052393</td>\n",
       "      <td>-0.164528</td>\n",
       "      <td>-0.586932</td>\n",
       "      <td>-0.055737</td>\n",
       "      <td>-0.087560</td>\n",
       "      <td>-0.065073</td>\n",
       "      <td>-0.158220</td>\n",
       "      <td>-0.056932</td>\n",
       "      <td>-0.097128</td>\n",
       "      <td>-0.032768</td>\n",
       "      <td>0.901923</td>\n",
       "      <td>0.734491</td>\n",
       "      <td>1.000000</td>\n",
       "      <td>-0.056481</td>\n",
       "      <td>-0.139345</td>\n",
       "      <td>-0.173474</td>\n",
       "    </tr>\n",
       "    <tr>\n",
       "      <th>College_jobs</th>\n",
       "      <td>0.052639</td>\n",
       "      <td>0.041198</td>\n",
       "      <td>0.800465</td>\n",
       "      <td>0.563168</td>\n",
       "      <td>0.851946</td>\n",
       "      <td>0.195550</td>\n",
       "      <td>0.701704</td>\n",
       "      <td>0.797534</td>\n",
       "      <td>0.772515</td>\n",
       "      <td>0.804987</td>\n",
       "      <td>0.755254</td>\n",
       "      <td>0.713804</td>\n",
       "      <td>-0.014552</td>\n",
       "      <td>-0.050276</td>\n",
       "      <td>-0.011554</td>\n",
       "      <td>-0.056481</td>\n",
       "      <td>1.000000</td>\n",
       "      <td>0.613474</td>\n",
       "      <td>0.650238</td>\n",
       "    </tr>\n",
       "    <tr>\n",
       "      <th>Non_college_jobs</th>\n",
       "      <td>0.144689</td>\n",
       "      <td>0.232425</td>\n",
       "      <td>0.941247</td>\n",
       "      <td>0.851500</td>\n",
       "      <td>0.872132</td>\n",
       "      <td>0.137007</td>\n",
       "      <td>0.915464</td>\n",
       "      <td>0.941326</td>\n",
       "      <td>0.933124</td>\n",
       "      <td>0.909634</td>\n",
       "      <td>0.928874</td>\n",
       "      <td>0.956532</td>\n",
       "      <td>0.116365</td>\n",
       "      <td>-0.174363</td>\n",
       "      <td>-0.138877</td>\n",
       "      <td>-0.139345</td>\n",
       "      <td>0.613474</td>\n",
       "      <td>1.000000</td>\n",
       "      <td>0.975733</td>\n",
       "    </tr>\n",
       "    <tr>\n",
       "      <th>Low_wage_jobs</th>\n",
       "      <td>0.202920</td>\n",
       "      <td>0.225294</td>\n",
       "      <td>0.935510</td>\n",
       "      <td>0.791336</td>\n",
       "      <td>0.904470</td>\n",
       "      <td>0.187850</td>\n",
       "      <td>0.860319</td>\n",
       "      <td>0.927224</td>\n",
       "      <td>0.904852</td>\n",
       "      <td>0.951593</td>\n",
       "      <td>0.892847</td>\n",
       "      <td>0.955388</td>\n",
       "      <td>0.128444</td>\n",
       "      <td>-0.209431</td>\n",
       "      <td>-0.173835</td>\n",
       "      <td>-0.173474</td>\n",
       "      <td>0.650238</td>\n",
       "      <td>0.975733</td>\n",
       "      <td>1.000000</td>\n",
       "    </tr>\n",
       "  </tbody>\n",
       "</table>\n",
       "</div>"
      ],
      "text/plain": [
       "                          Rank  Major_code     Total       Men     Women  \\\n",
       "Rank                  1.000000    0.108429  0.071137 -0.094780  0.174913   \n",
       "Major_code            0.108429    1.000000  0.196784  0.179299  0.181459   \n",
       "Total                 0.071137    0.196784  1.000000  0.878088  0.944764   \n",
       "Men                  -0.094780    0.179299  0.878088  1.000000  0.672759   \n",
       "Women                 0.174913    0.181459  0.944764  0.672759  1.000000   \n",
       "ShareWomen            0.643781    0.259211  0.142999 -0.112014  0.297832   \n",
       "Sample_size           0.008492    0.206580  0.945575  0.875176  0.862606   \n",
       "Employed              0.070751    0.200925  0.996214  0.870605  0.944037   \n",
       "Full_time             0.034725    0.199397  0.989339  0.893563  0.917681   \n",
       "Part_time             0.193174    0.195184  0.950268  0.751592  0.954513   \n",
       "Full_time_year_round  0.020418    0.205634  0.981112  0.892454  0.905720   \n",
       "Unemployed            0.090078    0.223418  0.974768  0.869411  0.911694   \n",
       "Unemployment_rate     0.068900    0.126603  0.083192  0.101502  0.059108   \n",
       "Median               -0.873308   -0.176072 -0.106738  0.025991 -0.182842   \n",
       "P25th                -0.735688   -0.166864 -0.071926  0.038725 -0.137738   \n",
       "P75th                -0.802686   -0.094556 -0.083198  0.052393 -0.164528   \n",
       "College_jobs          0.052639    0.041198  0.800465  0.563168  0.851946   \n",
       "Non_college_jobs      0.144689    0.232425  0.941247  0.851500  0.872132   \n",
       "Low_wage_jobs         0.202920    0.225294  0.935510  0.791336  0.904470   \n",
       "\n",
       "                      ShareWomen  Sample_size  Employed  Full_time  Part_time  \\\n",
       "Rank                    0.643781     0.008492  0.070751   0.034725   0.193174   \n",
       "Major_code              0.259211     0.206580  0.200925   0.199397   0.195184   \n",
       "Total                   0.142999     0.945575  0.996214   0.989339   0.950268   \n",
       "Men                    -0.112014     0.875176  0.870605   0.893563   0.751592   \n",
       "Women                   0.297832     0.862606  0.944037   0.917681   0.954513   \n",
       "ShareWomen              1.000000     0.097496  0.147547   0.120200   0.212290   \n",
       "Sample_size             0.097496     1.000000  0.964462   0.978396   0.824824   \n",
       "Employed                0.147547     0.964462  1.000000   0.995838   0.934528   \n",
       "Full_time               0.120200     0.978396  0.995838   1.000000   0.900877   \n",
       "Part_time               0.212290     0.824824  0.934528   0.900877   1.000000   \n",
       "Full_time_year_round    0.112523     0.985235  0.991047   0.998203   0.880855   \n",
       "Unemployed              0.121243     0.918059  0.968900   0.960102   0.945094   \n",
       "Unemployment_rate       0.073205     0.059872  0.068056   0.063349   0.108944   \n",
       "Median                 -0.618690    -0.067578 -0.107547  -0.082258  -0.190124   \n",
       "P25th                  -0.500199    -0.025229 -0.067514  -0.042957  -0.153509   \n",
       "P75th                  -0.586932    -0.055737 -0.087560  -0.065073  -0.158220   \n",
       "College_jobs            0.195550     0.701704  0.797534   0.772515   0.804987   \n",
       "Non_college_jobs        0.137007     0.915464  0.941326   0.933124   0.909634   \n",
       "Low_wage_jobs           0.187850     0.860319  0.927224   0.904852   0.951593   \n",
       "\n",
       "                      Full_time_year_round  Unemployed  Unemployment_rate  \\\n",
       "Rank                              0.020418    0.090078           0.068900   \n",
       "Major_code                        0.205634    0.223418           0.126603   \n",
       "Total                             0.981112    0.974768           0.083192   \n",
       "Men                               0.892454    0.869411           0.101502   \n",
       "Women                             0.905720    0.911694           0.059108   \n",
       "ShareWomen                        0.112523    0.121243           0.073205   \n",
       "Sample_size                       0.985235    0.918059           0.059872   \n",
       "Employed                          0.991047    0.968900           0.068056   \n",
       "Full_time                         0.998203    0.960102           0.063349   \n",
       "Part_time                         0.880855    0.945094           0.108944   \n",
       "Full_time_year_round              1.000000    0.950711           0.057171   \n",
       "Unemployed                        0.950711    1.000000           0.165282   \n",
       "Unemployment_rate                 0.057171    0.165282           1.000000   \n",
       "Median                           -0.072982   -0.126386          -0.108833   \n",
       "P25th                            -0.033034   -0.092185          -0.096156   \n",
       "P75th                            -0.056932   -0.097128          -0.032768   \n",
       "College_jobs                      0.755254    0.713804          -0.014552   \n",
       "Non_college_jobs                  0.928874    0.956532           0.116365   \n",
       "Low_wage_jobs                     0.892847    0.955388           0.128444   \n",
       "\n",
       "                        Median     P25th     P75th  College_jobs  \\\n",
       "Rank                 -0.873308 -0.735688 -0.802686      0.052639   \n",
       "Major_code           -0.176072 -0.166864 -0.094556      0.041198   \n",
       "Total                -0.106738 -0.071926 -0.083198      0.800465   \n",
       "Men                   0.025991  0.038725  0.052393      0.563168   \n",
       "Women                -0.182842 -0.137738 -0.164528      0.851946   \n",
       "ShareWomen           -0.618690 -0.500199 -0.586932      0.195550   \n",
       "Sample_size          -0.067578 -0.025229 -0.055737      0.701704   \n",
       "Employed             -0.107547 -0.067514 -0.087560      0.797534   \n",
       "Full_time            -0.082258 -0.042957 -0.065073      0.772515   \n",
       "Part_time            -0.190124 -0.153509 -0.158220      0.804987   \n",
       "Full_time_year_round -0.072982 -0.033034 -0.056932      0.755254   \n",
       "Unemployed           -0.126386 -0.092185 -0.097128      0.713804   \n",
       "Unemployment_rate    -0.108833 -0.096156 -0.032768     -0.014552   \n",
       "Median                1.000000  0.891683  0.901923     -0.050276   \n",
       "P25th                 0.891683  1.000000  0.734491     -0.011554   \n",
       "P75th                 0.901923  0.734491  1.000000     -0.056481   \n",
       "College_jobs         -0.050276 -0.011554 -0.056481      1.000000   \n",
       "Non_college_jobs     -0.174363 -0.138877 -0.139345      0.613474   \n",
       "Low_wage_jobs        -0.209431 -0.173835 -0.173474      0.650238   \n",
       "\n",
       "                      Non_college_jobs  Low_wage_jobs  \n",
       "Rank                          0.144689       0.202920  \n",
       "Major_code                    0.232425       0.225294  \n",
       "Total                         0.941247       0.935510  \n",
       "Men                           0.851500       0.791336  \n",
       "Women                         0.872132       0.904470  \n",
       "ShareWomen                    0.137007       0.187850  \n",
       "Sample_size                   0.915464       0.860319  \n",
       "Employed                      0.941326       0.927224  \n",
       "Full_time                     0.933124       0.904852  \n",
       "Part_time                     0.909634       0.951593  \n",
       "Full_time_year_round          0.928874       0.892847  \n",
       "Unemployed                    0.956532       0.955388  \n",
       "Unemployment_rate             0.116365       0.128444  \n",
       "Median                       -0.174363      -0.209431  \n",
       "P25th                        -0.138877      -0.173835  \n",
       "P75th                        -0.139345      -0.173474  \n",
       "College_jobs                  0.613474       0.650238  \n",
       "Non_college_jobs              1.000000       0.975733  \n",
       "Low_wage_jobs                 0.975733       1.000000  "
      ]
     },
     "execution_count": 62,
     "metadata": {},
     "output_type": "execute_result"
    }
   ],
   "source": [
    "df.corr()"
   ]
  },
  {
   "cell_type": "code",
   "execution_count": 65,
   "id": "1f4f47a1",
   "metadata": {},
   "outputs": [],
   "source": [
    "cat_totals = df.groupby(\"Major_category\")[\"Total\"].sum().sort_values()"
   ]
  },
  {
   "cell_type": "code",
   "execution_count": 66,
   "id": "db978c50",
   "metadata": {},
   "outputs": [
    {
     "data": {
      "text/plain": [
       "Major_category\n",
       "Interdisciplinary                        12296.0\n",
       "Agriculture & Natural Resources          75620.0\n",
       "Law & Public Policy                     179107.0\n",
       "Physical Sciences                       185479.0\n",
       "Industrial Arts & Consumer Services     229792.0\n",
       "Computers & Mathematics                 299008.0\n",
       "Arts                                    357130.0\n",
       "Communications & Journalism             392601.0\n",
       "Biology & Life Science                  453862.0\n",
       "Health                                  463230.0\n",
       "Psychology & Social Work                481007.0\n",
       "Social Science                          529966.0\n",
       "Engineering                             537583.0\n",
       "Education                               559129.0\n",
       "Humanities & Liberal Arts               713468.0\n",
       "Business                               1302376.0\n",
       "Name: Total, dtype: float64"
      ]
     },
     "execution_count": 66,
     "metadata": {},
     "output_type": "execute_result"
    }
   ],
   "source": [
    "cat_totals"
   ]
  },
  {
   "cell_type": "code",
   "execution_count": 67,
   "id": "bb4901ae",
   "metadata": {},
   "outputs": [
    {
     "data": {
      "text/plain": [
       "<AxesSubplot:>"
      ]
     },
     "execution_count": 67,
     "metadata": {},
     "output_type": "execute_result"
    },
    {
     "data": {
      "image/png": "[encoded data removed]",
      "text/plain": [
       "<Figure size 432x288 with 1 Axes>"
      ]
     },
     "metadata": {},
     "output_type": "display_data"
    }
   ],
   "source": [
    "cat_totals.plot(kind=\"pie\", label=\"\")"
   ]
  },
  {
   "cell_type": "code",
   "execution_count": 68,
   "id": "30ce0e19",
   "metadata": {},
   "outputs": [],
   "source": [
    "small_cat_totals = cat_totals[cat_totals<100000]"
   ]
  },
  {
   "cell_type": "code",
   "execution_count": 69,
   "id": "4956de21",
   "metadata": {},
   "outputs": [],
   "source": [
    "big_cat_totals = cat_totals[cat_totals>100000]"
   ]
  },
  {
   "cell_type": "code",
   "execution_count": 72,
   "id": "3fe07738",
   "metadata": {},
   "outputs": [],
   "source": [
    "small_sums = pd.Series([small_cat_totals.sum()], index=[\"Other\"])"
   ]
  },
  {
   "cell_type": "code",
   "execution_count": 73,
   "id": "7c2c025e",
   "metadata": {},
   "outputs": [],
   "source": [
    "big_cat_totals = big_cat_totals.append(small_sums)"
   ]
  },
  {
   "cell_type": "code",
   "execution_count": 75,
   "id": "2423ee42",
   "metadata": {},
   "outputs": [
    {
     "data": {
      "text/plain": [
       "<AxesSubplot:>"
      ]
     },
     "execution_count": 75,
     "metadata": {},
     "output_type": "execute_result"
    },
    {
     "data": {
      "image/png": "[encoded data removed]",
      "text/plain": [
       "<Figure size 432x288 with 1 Axes>"
      ]
     },
     "metadata": {},
     "output_type": "display_data"
    }
   ],
   "source": [
    "big_cat_totals.plot(kind=\"pie\", label=\"\")"
   ]
  },
  {
   "cell_type": "markdown",
   "id": "128c6adc",
   "metadata": {},
   "source": [
    "# Zooming in on categories"
   ]
  },
  {
   "cell_type": "code",
   "execution_count": 77,
   "id": "47f8186c",
   "metadata": {},
   "outputs": [
    {
     "data": {
      "text/plain": [
       "<AxesSubplot:ylabel='Frequency'>"
      ]
     },
     "execution_count": 77,
     "metadata": {},
     "output_type": "execute_result"
    },
    {
     "data": {
      "image/png": "[encoded data removed]",
      "text/plain": [
       "<Figure size 432x288 with 1 Axes>"
      ]
     },
     "metadata": {
      "needs_background": "light"
     },
     "output_type": "display_data"
    }
   ],
   "source": [
    "df[df[\"Major_category\"] == \"Engineering\"][\"Median\"].plot(kind=\"hist\")"
   ]
  },
  {
   "cell_type": "markdown",
   "id": "d08959bf",
   "metadata": {},
   "source": [
    "# New code for GITHUB"
   ]
  },
  {
   "cell_type": "code",
   "execution_count": null,
   "id": "64febe61",
   "metadata": {},
   "outputs": [],
   "source": []
  }
 ],
 "metadata": {
  "kernelspec": {
   "display_name": "Python 3 (ipykernel)",
   "language": "python",
   "name": "python3"
  },
  "language_info": {
   "codemirror_mode": {
    "name": "ipython",
    "version": 3
   },
   "file_extension": ".py",
   "mimetype": "text/x-python",
   "name": "python",
   "nbconvert_exporter": "python",
   "pygments_lexer": "ipython3",
   "version": "3.7.3"
  }
 },
 "nbformat": 4,
 "nbformat_minor": 5
}
